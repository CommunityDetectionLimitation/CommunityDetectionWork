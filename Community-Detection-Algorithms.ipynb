{
 "cells": [
  {
   "cell_type": "markdown",
   "metadata": {},
   "source": [
    "## Louvain Community Detection Algorithm\n",
    "\n",
    "● The Louvain algorithm is a greedy algorithm which gives different communities on multiple run on the same dataset.The louvain Algorithm is based on hierarchical clustering which merges multiple communities to single nodes based on modularity\n",
    "● We have imported the louvain algorithm library in python using networkx.\n",
    "● This is the Code for Louvain Algorithm"
   ]
  },
  {
   "cell_type": "code",
   "execution_count": 4,
   "metadata": {},
   "outputs": [],
   "source": [
    "import networkx as nx\n",
    "from community import community_louvain\n",
    "\n",
    "G = nx.read_edgelist('data/com-dblp.ungraph.txt', create_using = nx.Graph(), nodetype = int)\n",
    "\n",
    "parts = community_louvain.best_partition(G, resolution = 5, randomize = 0)\n",
    "values = [parts.get(node) for node in G.nodes()]\n",
    "\n",
    "a = []\n",
    "b = []\n",
    "\n",
    "i=0\n",
    "for item in parts:\n",
    "    a.append(item)\n",
    "    #a[i] = item\n",
    "    i = i + 1\n",
    "\n",
    "i=0\n",
    "for item2 in values:\n",
    "    b.append(item2)\n",
    "    #b[i] = item2\n",
    "    i = i + 1\n",
    "\n",
    "with open('data/LovainDblpCommunities.txt', 'a') as f:\n",
    "#f= open(\"a.txt\",\"w+\")\n",
    "    for i in range(len(a)):\n",
    "        f.write(str(a[i]) + '\\t ' + str(b[i]) + '\\n')"
   ]
  },
  {
   "cell_type": "markdown",
   "metadata": {},
   "source": [
    "● By running this code, we found the communities on DBLP Network\n",
    "● The output shows the community has been assigned to each node. The first column in each row defines nodes and 2nd column its respective community."
   ]
  },
  {
   "cell_type": "markdown",
   "metadata": {},
   "source": [
    "## Leiden Community Detection Algorithm\n",
    "\n",
    "● Leiden algorithm gives communities which are densely connected internally.\n",
    "● We have implemented leiden algorithm using igraph\n",
    "● We have downloaded Anaconda Navigator and installed the Leiden Algorithmlibrary which was done successfully.\n",
    "● This is the Code for Leiden Algorithm"
   ]
  },
  {
   "cell_type": "code",
   "execution_count": 6,
   "metadata": {},
   "outputs": [
    {
     "ename": "ModuleNotFoundError",
     "evalue": "No module named 'leidenalg'",
     "output_type": "error",
     "traceback": [
      "\u001b[1;31m---------------------------------------------------------------------------\u001b[0m",
      "\u001b[1;31mModuleNotFoundError\u001b[0m                       Traceback (most recent call last)",
      "\u001b[1;32m<ipython-input-6-a63685e0e91d>\u001b[0m in \u001b[0;36m<module>\u001b[1;34m\u001b[0m\n\u001b[1;32m----> 1\u001b[1;33m \u001b[1;32mimport\u001b[0m \u001b[0mleidenalg\u001b[0m\u001b[1;33m\u001b[0m\u001b[1;33m\u001b[0m\u001b[0m\n\u001b[0m\u001b[0;32m      2\u001b[0m \u001b[1;32mimport\u001b[0m \u001b[0migraph\u001b[0m \u001b[1;32mas\u001b[0m \u001b[0mig\u001b[0m\u001b[1;33m\u001b[0m\u001b[1;33m\u001b[0m\u001b[0m\n\u001b[0;32m      3\u001b[0m \u001b[1;32mimport\u001b[0m \u001b[0mmatplotlib\u001b[0m\u001b[1;33m.\u001b[0m\u001b[0mpyplot\u001b[0m \u001b[1;32mas\u001b[0m \u001b[0mplt\u001b[0m\u001b[1;33m\u001b[0m\u001b[1;33m\u001b[0m\u001b[0m\n\u001b[0;32m      4\u001b[0m \u001b[1;33m\u001b[0m\u001b[0m\n\u001b[0;32m      5\u001b[0m \u001b[0mG\u001b[0m \u001b[1;33m=\u001b[0m \u001b[0mGraph\u001b[0m\u001b[1;33m.\u001b[0m\u001b[0mRead_Edgelist\u001b[0m\u001b[1;33m(\u001b[0m\u001b[1;34m'data/com-dblp.ungraph.txt'\u001b[0m\u001b[1;33m,\u001b[0m \u001b[0mdirected\u001b[0m\u001b[1;33m=\u001b[0m\u001b[1;32mFalse\u001b[0m\u001b[1;33m)\u001b[0m\u001b[1;33m\u001b[0m\u001b[1;33m\u001b[0m\u001b[0m\n",
      "\u001b[1;31mModuleNotFoundError\u001b[0m: No module named 'leidenalg'"
     ]
    }
   ],
   "source": [
    "import leidenalg\n",
    "import igraph as ig\n",
    "import matplotlib.pyplot as plt\n",
    "\n",
    "G = Graph.Read_Edgelist('data/com-dblp.ungraph.txt', directed=False)\n",
    "\n",
    "part = leidenalg.find_partition(G, leidenalg.ModularityVertexPartition)\n",
    "\n",
    "print (part)\n",
    "\n",
    "file3 = open(\"data/LeidenDblpCommunities.txt\", \"a\")\n",
    "\n",
    "for items in part:\n",
    "    for elements in items:\n",
    "        #print (str(elements))\n",
    "        file3.write(str(elements))\n",
    "        file3.write(\"\\t\")\n",
    "    file3.write(\"\\n\")\n",
    "file3.close()"
   ]
  },
  {
   "cell_type": "markdown",
   "metadata": {},
   "source": [
    "● By running this code, we found the communities on DBLP Network\n",
    "● The image attached below shows the text file form by above code each row represent community and numbers of nodes in that community.\n",
    "● There are many communities that contain only 1 node."
   ]
  }
 ],
 "metadata": {
  "kernelspec": {
   "display_name": "Python 3",
   "language": "python",
   "name": "python3"
  },
  "language_info": {
   "codemirror_mode": {
    "name": "ipython",
    "version": 3
   },
   "file_extension": ".py",
   "mimetype": "text/x-python",
   "name": "python",
   "nbconvert_exporter": "python",
   "pygments_lexer": "ipython3",
   "version": "3.7.4"
  }
 },
 "nbformat": 4,
 "nbformat_minor": 2
}
