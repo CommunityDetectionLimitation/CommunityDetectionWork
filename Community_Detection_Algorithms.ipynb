{
  "nbformat": 4,
  "nbformat_minor": 0,
  "metadata": {
    "kernelspec": {
      "display_name": "Python 3",
      "language": "python",
      "name": "python3"
    },
    "language_info": {
      "codemirror_mode": {
        "name": "ipython",
        "version": 3
      },
      "file_extension": ".py",
      "mimetype": "text/x-python",
      "name": "python",
      "nbconvert_exporter": "python",
      "pygments_lexer": "ipython3",
      "version": "3.7.4"
    },
    "colab": {
      "name": "Copy of Community-Detection-Algorithms.ipynb",
      "provenance": [],
      "collapsed_sections": []
    }
  },
  "cells": [
    {
      "cell_type": "code",
      "metadata": {
        "id": "VX9QnQOsGU-L",
        "colab_type": "code",
        "colab": {}
      },
      "source": [
        "from google.colab import drive\n",
        "drive.mount('/content/drive')"
      ],
      "execution_count": 0,
      "outputs": []
    },
    {
      "cell_type": "markdown",
      "metadata": {
        "id": "-7S3i7T-CPvj",
        "colab_type": "text"
      },
      "source": [
        "## Biblographic Coupling and Co-Citation Code"
      ]
    },
    {
      "cell_type": "markdown",
      "metadata": {
        "id": "-t_Oe66GEmz-",
        "colab_type": "text"
      },
      "source": [
        "1. Load Mult.Py"
      ]
    },
    {
      "cell_type": "code",
      "metadata": {
        "id": "_8Zeq01OCZYe",
        "colab_type": "code",
        "colab": {}
      },
      "source": [
        "!pip install snap\n",
        "!pip install gc\n",
        "!pip install pydot\n"
      ],
      "execution_count": 0,
      "outputs": []
    },
    {
      "cell_type": "code",
      "metadata": {
        "id": "gVXWv1hfEuMQ",
        "colab_type": "code",
        "colab": {}
      },
      "source": [
        "import snap\n",
        "\n",
        "COCI = snap.LoadEdgeList(snap.PNEANet, \"/content/drive/My Drive/data/Cit-HepTh.txt\", 0, 1)\n",
        "\n",
        "COCI.AddStrAttrN(\"Layer\")\n",
        "COCI.AddIntAttrN(\"Visited\")\n",
        "COCI.AddStrAttrE(\"InterOrIntra\")\n",
        "COCI.AddStrAttrE(\"Dimension\")\n",
        "COCI.AddIntAttrE(\"Weight\")\n",
        "\n",
        "for N in COCI.Nodes():\n",
        "    COCI.AddStrAttrDatN(N, \"Article\", \"Layer\")\n",
        "    COCI.AddIntAttrDatN(N, 0, \"Visited\")\n",
        "\n",
        "\n",
        "FOut = snap.TFOut(\"/content/drive/My Drive/data/DOIMulti.graph\")\n",
        "COCI.Save(FOut)\n",
        "FOut.Flush()\n",
        "\n",
        "print \"Citation Graph saved\"\n",
        "\n",
        "#no of nodes\n",
        "print \"Nodes: %d\" % COCI.GetNodes()\n",
        "\n",
        "#no of edges\n",
        "print \"Edges: %d\" % COCI.GetEdges()"
      ],
      "execution_count": 0,
      "outputs": []
    },
    {
      "cell_type": "markdown",
      "metadata": {
        "id": "Q2kQsrIBE1AO",
        "colab_type": "text"
      },
      "source": [
        "2. loadMultiEdgeLabel.py"
      ]
    },
    {
      "cell_type": "code",
      "metadata": {
        "id": "LB5amdZ5E8PK",
        "colab_type": "code",
        "colab": {}
      },
      "source": [
        "import snap\n",
        "import gc\n",
        "\n",
        "FIn = snap.TFIn(\"/content/drive/My Drive/data/DOIMulti.graph\")\n",
        "G4 = snap.TNEANet.Load(FIn)\n",
        "print \"Nodes: %d\" % G4.GetNodes()\n",
        "print \"Edges: %d\" % G4.GetEdges()\n",
        "\n",
        "\n",
        "for EI in G4.Edges():\n",
        "    G4.AddStrAttrDatE(EI, \"Intra\", \"InterOrIntra\")\n",
        "    G4.AddStrAttrDatE(EI, \"Citation\", \"Dimension\")\n",
        "    G4.AddIntAttrDatE(EI, 1, \"Weight\")\n",
        "    gc.collect()\n",
        "\n",
        "FOut = snap.TFOut(\"/content/drive/My Drive/data/DOIMultiEdgeLabels.graph\")\n",
        "G4.Save(FOut)\n",
        "FOut.Flush()"
      ],
      "execution_count": 0,
      "outputs": []
    },
    {
      "cell_type": "markdown",
      "metadata": {
        "id": "ei15i2l6E_CS",
        "colab_type": "text"
      },
      "source": [
        "3.makeBib.py"
      ]
    },
    {
      "cell_type": "code",
      "metadata": {
        "id": "9Pyq3gVKFC5R",
        "colab_type": "code",
        "colab": {}
      },
      "source": [
        "import snap\n",
        "import gc\n",
        "import pydot\n",
        "\n",
        "\n",
        "\n",
        "P = pydot.Dot()\n",
        "i = 0\n",
        "DEBUG = 0\n",
        "FIn = snap.TFIn(\"/content/drive/My Drive/data/DOIMultiEdgeLabels.graph\")\n",
        "M = snap.TNEANet.Load(FIn)\n",
        "print (\"Nodes: %d\" % M.GetNodes())\n",
        "print (\"Edges: %d\" % M.GetEdges())\n",
        "\"\"\"\n",
        "\n",
        "for EI in M.Edges():\n",
        "    if M.GetStrAttrDatE(EI,\"Dimension\") == \"Citation\":\n",
        "        P.add_edge(pydot.Edge(EI.GetSrcNId(),EI.GetDstNId()))\n",
        "    else:\n",
        "        P.add_edge(pydot.Edge(EI.GetSrcNId(), EI.GetDstNId(), label=\"Bibliographic Coupling\", labelfontcolor=\"#009933\", fontsize=\"10.0\", color=\"blue\", arrowhead=\"none\"))\n",
        "\n",
        "\"\"\"\n",
        "for src in M.Nodes():\n",
        "    if((M.GetIntAttrDatN(src, \"Visited\") == 0) ):\n",
        "        i = i + 1\n",
        "        gc.collect()\n",
        "        outDeg = src.GetOutDeg()\n",
        "        outEIdList = []\n",
        "        #print lst\n",
        "        for i in range(outDeg):\n",
        "            gc.collect()\n",
        "            outEIdList.append(src.GetOutEId(i))\n",
        "        for citedEdge in outEIdList:\n",
        "            gc.collect()\n",
        "            if M.GetStrAttrDatE(M.GetEI(citedEdge),\"Dimension\") == \"Citation\":\n",
        "                cited = M.GetNI(M.GetEI(citedEdge).GetDstNId())#Src\n",
        "                inDeg = cited.GetInDeg()\n",
        "                inEIdList = []\n",
        "                #print lst\n",
        "                for i in range(inDeg):\n",
        "                    gc.collect()\n",
        "                    inEIdList.append(cited.GetInEId(i))\n",
        "                for citedOutE in inEIdList:\n",
        "                    gc.collect()\n",
        "                    dst = M.GetEI(citedOutE).GetSrcNId()#Dst\n",
        "                    if M.GetStrAttrDatE(citedOutE,\"Dimension\") == \"Citation\":\n",
        "\n",
        "                        if src.GetId() < dst:\n",
        "                            if M.IsEdge(src.GetId(), dst) and M.GetStrAttrDatE(M.GetEI(src.GetId(), dst),\"Dimension\") == \"Bibliographic Coupling\":\n",
        "                                M.AddIntAttrDatE(M.GetEI(src.GetId(), dst),M.GetIntAttrDatE(M.GetEI(src.GetId(), dst),\"Weight\")+1,\"Weight\")\n",
        "                                M.AddIntAttrDatE(M.GetEI(dst, src.GetId()),M.GetIntAttrDatE(M.GetEI(dst, src.GetId()),\"Weight\")+1,\"Weight\")\n",
        "                                if (DEBUG):\n",
        "                                    P.add_edge(pydot.Edge(src.GetId(), dst, label=\"Bibliographic Coupling ( \"+str(cited.GetId())+\" )\", labelfontcolor=\"#009933\", fontsize=\"10.0\", color=\"blue\", arrowhead=\"none\"))\n",
        "                                                            \n",
        "                            elif (M.IsEdge(src.GetId(), dst) and M.GetStrAttrDatE(M.GetEI(src.GetId(), dst),\"Dimension\") == \"Citation\") or M.IsEdge(src.GetId(), dst) == False:\n",
        "                                Eid1 = M.AddEdge(src.GetId(), dst)\n",
        "                                Eid2 = M.AddEdge(dst, src.GetId())\n",
        "                                if (DEBUG):\n",
        "                                    P.add_edge(pydot.Edge(src.GetId(), dst, label=\"Bibliographic Coupling ( \"+str(cited.GetId())+\" )\", labelfontcolor=\"#009933\", fontsize=\"10.0\", color=\"blue\", arrowhead=\"none\"))\n",
        "                                M.AddIntAttrDatE(Eid1,1,\"Weight\")\n",
        "                                M.AddIntAttrDatE(Eid2,1,\"Weight\")                        \n",
        "                                M.AddStrAttrDatE(Eid1,\"Bibliographic Coupling\",\"Dimension\")\n",
        "                                M.AddStrAttrDatE(Eid2,\"Bibliographic Coupling\",\"Dimension\")\n",
        "                                M.AddStrAttrDatE(Eid1, \"Intra\", \"InterOrIntra\")\n",
        "                                M.AddStrAttrDatE(Eid2, \"Intra\", \"InterOrIntra\")\n",
        "\n",
        "        M.AddIntAttrDatN(src,1,\"Visited\")\n",
        "        FOut = snap.TFOut(\"/content/drive/My Drive/data/DOIMultiEdgeLabels.graph\")\n",
        "        M.Save(FOut)\n",
        "        FOut.Flush()\n",
        "\n",
        "#M.Dump()\n",
        "\n",
        "\"\"\"\n",
        "gc.collect()\n",
        "for src in M.Nodes():\n",
        "    inDeg = src.GetInDeg()\n",
        "    inEIdList = []\n",
        "    #print lst\n",
        "    for i in range(inDeg):\n",
        "        inEIdList.append(src.GetInEId(i))\n",
        "        #print src.GetId(),inDeg, inEIdList, src.GetInEId(i)\n",
        "    for citingEdge in inEIdList:\n",
        "        if M.GetStrAttrDatE(M.GetEI(citingEdge),\"Dimension\") == \"Citation\":\n",
        "            citing = M.GetNI(M.GetEI(citingEdge).GetSrcNId())\n",
        "            outDeg = citing.GetOutDeg()\n",
        "            outEIdList = []\n",
        "            #print lst\n",
        "            for i in range(outDeg):\n",
        "                outEIdList.append(citing.GetOutEId(i))\n",
        "                #print src.GetId(),outDeg, outEIdList, src.GetOutEId(i)\n",
        "            for citedOutE in outEIdList:\n",
        "                dst = M.GetEI(citedOutE).GetDstNId()\n",
        "                if M.GetStrAttrDatE(citedOutE,\"Dimension\") == \"Citation\":\n",
        "                    if src.GetId() < dst:\n",
        "                        if M.IsEdge(src.GetId(), dst) and M.GetStrAttrDatE(M.GetEI(src.GetId(), dst),\"Dimension\") == \"Co-Citation\":\n",
        "                            M.AddIntAttrDatE(M.GetEI(src.GetId(), dst),M.GetIntAttrDatE(M.GetEI(src.GetId(), dst),\"Weight\")+1,\"Weight\")\n",
        "                            M.AddIntAttrDatE(M.GetEI(dst, src.GetId()),M.GetIntAttrDatE(M.GetEI(dst, src.GetId()),\"Weight\")+1,\"Weight\")\n",
        "                            P.add_edge(pydot.Edge(src.GetId(), dst, label=\"Co-Citation ( \"+str(citing.GetId())+\" )\", labelfontcolor=\"#009933\", fontsize=\"10.0\", color=\"red\", arrowhead=\"none\"))                        \n",
        "                        elif (M.IsEdge(src.GetId(), dst) and M.GetStrAttrDatE(M.GetEI(src.GetId(), dst),\"Dimension\") == \"Citation\") or M.IsEdge(src.GetId(), dst) == False:\n",
        "                            '''\n",
        "                            if M.IsEdge(src.GetId(), dst): \n",
        "                                print M.IsEdge(src.GetId(), dst), M.GetStrAttrDatE(M.GetEI(src.GetId(), dst),\"Dimension\"), src.GetId() , dst, citing\n",
        "                            else:\n",
        "                                print M.IsEdge(src.GetId(), dst), src.GetId() , dst, citing\n",
        "                            '''\n",
        "                            Eid1 = M.AddEdge(src.GetId(), dst)\n",
        "                            Eid2 = M.AddEdge(dst, src.GetId())\n",
        "                            P.add_edge(pydot.Edge(src.GetId(), dst, label=\"Co-Citation ( \"+str(citing.GetId())+\" )\", labelfontcolor=\"#009933\", fontsize=\"10.0\", color=\"red\", arrowhead=\"none\"))\n",
        "                            M.AddIntAttrDatE(Eid1,1,\"Weight\")\n",
        "                            M.AddIntAttrDatE(Eid2,1,\"Weight\")                        \n",
        "                            M.AddStrAttrDatE(Eid1,\"Co-Citation\",\"Dimension\")\n",
        "                            M.AddStrAttrDatE(Eid2,\"Co-Citation\",\"Dimension\")\n",
        "                            M.AddStrAttrDatE(Eid1, \"Intra\", \"InterOrIntra\")\n",
        "                            M.AddStrAttrDatE(Eid2, \"Intra\", \"InterOrIntra\")\n",
        "\n",
        "gc.collect()\n",
        "\n",
        "\"\"\"\n",
        "#snap.SaveEdgeList(M, 'network_mygraph.txt')\n",
        "\n",
        "\n",
        "\"\"\"\n",
        "P.write('temp.dot')\n",
        "\n",
        "\n",
        "im_name = \"temp.png\"\n",
        "P.write_png(im_name)\n",
        "\n",
        "\n",
        "NidName = snap.TIntStrH()\n",
        "for i in M.Nodes():\n",
        "\tNidName[i.GetId()] = str(i.GetId())\n",
        "\n",
        "snap.DrawGViz(M, snap.gvlDot, \"G2.png\", \"G2\", NidName)\n",
        "\n",
        "\n",
        "CmtyV = snap.TCnComV()\n",
        "modularity = snap.CommunityGirvanNewman(M, CmtyV)\n",
        "#for Cmty in CmtyV:\n",
        "    #print \"Community: \"\n",
        "    #for NI in Cmty:\n",
        "        #print NI\n",
        "print \"The modularity of the network is %f\" % modularity\n",
        "\n",
        "\"\"\""
      ],
      "execution_count": 0,
      "outputs": []
    },
    {
      "cell_type": "markdown",
      "metadata": {
        "id": "MvXp-I_EBKio",
        "colab_type": "text"
      },
      "source": [
        "## Louvain Community Detection Algorithm\n",
        "\n",
        "● The Louvain algorithm is a greedy algorithm which gives different communities on multiple run on the same dataset.The louvain Algorithm is based on hierarchical clustering which merges multiple communities to single nodes based on modularity\n",
        "● We have imported the louvain algorithm library in python using networkx.\n",
        "● This is the Code for Louvain Algorithm"
      ]
    },
    {
      "cell_type": "code",
      "metadata": {
        "id": "2VGp4bP6CaJb",
        "colab_type": "code",
        "colab": {
          "base_uri": "https://localhost:8080/",
          "height": 274
        },
        "outputId": "a39e34b0-25c5-46e4-e067-4f4b427b6089"
      },
      "source": [
        "!pip install networkx\n",
        "!pip install community"
      ],
      "execution_count": 1,
      "outputs": [
        {
          "output_type": "stream",
          "text": [
            "Requirement already satisfied: networkx in /usr/local/lib/python3.6/dist-packages (2.4)\n",
            "Requirement already satisfied: decorator>=4.3.0 in /usr/local/lib/python3.6/dist-packages (from networkx) (4.4.2)\n",
            "Requirement already satisfied: community in /usr/local/lib/python3.6/dist-packages (1.0.0b1)\n",
            "Requirement already satisfied: Flask in /usr/local/lib/python3.6/dist-packages (from community) (1.1.2)\n",
            "Requirement already satisfied: requests in /usr/local/lib/python3.6/dist-packages (from community) (2.23.0)\n",
            "Requirement already satisfied: click>=5.1 in /usr/local/lib/python3.6/dist-packages (from Flask->community) (7.1.2)\n",
            "Requirement already satisfied: Werkzeug>=0.15 in /usr/local/lib/python3.6/dist-packages (from Flask->community) (1.0.1)\n",
            "Requirement already satisfied: Jinja2>=2.10.1 in /usr/local/lib/python3.6/dist-packages (from Flask->community) (2.11.2)\n",
            "Requirement already satisfied: itsdangerous>=0.24 in /usr/local/lib/python3.6/dist-packages (from Flask->community) (1.1.0)\n",
            "Requirement already satisfied: chardet<4,>=3.0.2 in /usr/local/lib/python3.6/dist-packages (from requests->community) (3.0.4)\n",
            "Requirement already satisfied: urllib3!=1.25.0,!=1.25.1,<1.26,>=1.21.1 in /usr/local/lib/python3.6/dist-packages (from requests->community) (1.24.3)\n",
            "Requirement already satisfied: certifi>=2017.4.17 in /usr/local/lib/python3.6/dist-packages (from requests->community) (2020.4.5.1)\n",
            "Requirement already satisfied: idna<3,>=2.5 in /usr/local/lib/python3.6/dist-packages (from requests->community) (2.9)\n",
            "Requirement already satisfied: MarkupSafe>=0.23 in /usr/local/lib/python3.6/dist-packages (from Jinja2>=2.10.1->Flask->community) (1.1.1)\n"
          ],
          "name": "stdout"
        }
      ]
    },
    {
      "cell_type": "code",
      "metadata": {
        "id": "5i_0UmnqBKis",
        "colab_type": "code",
        "colab": {
          "base_uri": "https://localhost:8080/",
          "height": 411
        },
        "outputId": "c53f4b5e-b428-426a-efb1-6296c888b234"
      },
      "source": [
        "import networkx as nx\n",
        "from community import community_louvain\n",
        "\n",
        "\n",
        "G = nx.read_edgelist('/content/drive/My Drive/data/com-dblp.ungraph.txt', create_using = nx.Graph(), nodetype = int)\n",
        "\n",
        "parts = community_louvain.best_partition(G, resolution = 5, randomize = 0)\n",
        "values = [parts.get(node) for node in G.nodes()]\n",
        "\n",
        "a = []\n",
        "b = []\n",
        "\n",
        "i=0\n",
        "for item in parts:\n",
        "    a.append(item)\n",
        "    #a[i] = item\n",
        "    i = i + 1\n",
        "\n",
        "i=0\n",
        "for item2 in values:\n",
        "    b.append(item2)\n",
        "    #b[i] = item2\n",
        "    i = i + 1\n",
        "\n",
        "with open('/content/drive/My Drive/data/LovainDblpCommunities.txt', 'a') as f:\n",
        "#f= open(\"a.txt\",\"w+\")\n",
        "    for i in range(len(a)):\n",
        "        f.write(str(a[i]) + '\\t ' + str(b[i]) + '\\n')"
      ],
      "execution_count": 2,
      "outputs": [
        {
          "output_type": "error",
          "ename": "FileNotFoundError",
          "evalue": "ignored",
          "traceback": [
            "\u001b[0;31m---------------------------------------------------------------------------\u001b[0m",
            "\u001b[0;31mFileNotFoundError\u001b[0m                         Traceback (most recent call last)",
            "\u001b[0;32m<ipython-input-2-6187b9d43232>\u001b[0m in \u001b[0;36m<module>\u001b[0;34m()\u001b[0m\n\u001b[1;32m      2\u001b[0m \u001b[0;32mfrom\u001b[0m \u001b[0mcommunity\u001b[0m \u001b[0;32mimport\u001b[0m \u001b[0mcommunity_louvain\u001b[0m\u001b[0;34m\u001b[0m\u001b[0;34m\u001b[0m\u001b[0m\n\u001b[1;32m      3\u001b[0m \u001b[0;34m\u001b[0m\u001b[0m\n\u001b[0;32m----> 4\u001b[0;31m \u001b[0mG\u001b[0m \u001b[0;34m=\u001b[0m \u001b[0mnx\u001b[0m\u001b[0;34m.\u001b[0m\u001b[0mread_edgelist\u001b[0m\u001b[0;34m(\u001b[0m\u001b[0;34m'data/com-dblp.ungraph.txt'\u001b[0m\u001b[0;34m,\u001b[0m \u001b[0mcreate_using\u001b[0m \u001b[0;34m=\u001b[0m \u001b[0mnx\u001b[0m\u001b[0;34m.\u001b[0m\u001b[0mGraph\u001b[0m\u001b[0;34m(\u001b[0m\u001b[0;34m)\u001b[0m\u001b[0;34m,\u001b[0m \u001b[0mnodetype\u001b[0m \u001b[0;34m=\u001b[0m \u001b[0mint\u001b[0m\u001b[0;34m)\u001b[0m\u001b[0;34m\u001b[0m\u001b[0;34m\u001b[0m\u001b[0m\n\u001b[0m\u001b[1;32m      5\u001b[0m \u001b[0;34m\u001b[0m\u001b[0m\n\u001b[1;32m      6\u001b[0m \u001b[0mparts\u001b[0m \u001b[0;34m=\u001b[0m \u001b[0mcommunity_louvain\u001b[0m\u001b[0;34m.\u001b[0m\u001b[0mbest_partition\u001b[0m\u001b[0;34m(\u001b[0m\u001b[0mG\u001b[0m\u001b[0;34m,\u001b[0m \u001b[0mresolution\u001b[0m \u001b[0;34m=\u001b[0m \u001b[0;36m5\u001b[0m\u001b[0;34m,\u001b[0m \u001b[0mrandomize\u001b[0m \u001b[0;34m=\u001b[0m \u001b[0;36m0\u001b[0m\u001b[0;34m)\u001b[0m\u001b[0;34m\u001b[0m\u001b[0;34m\u001b[0m\u001b[0m\n",
            "\u001b[0;32m<decorator-gen-740>\u001b[0m in \u001b[0;36mread_edgelist\u001b[0;34m(path, comments, delimiter, create_using, nodetype, data, edgetype, encoding)\u001b[0m\n",
            "\u001b[0;32m/usr/local/lib/python3.6/dist-packages/networkx/utils/decorators.py\u001b[0m in \u001b[0;36m_open_file\u001b[0;34m(func_to_be_decorated, *args, **kwargs)\u001b[0m\n\u001b[1;32m    212\u001b[0m         \u001b[0;32mif\u001b[0m \u001b[0mis_string_like\u001b[0m\u001b[0;34m(\u001b[0m\u001b[0mpath\u001b[0m\u001b[0;34m)\u001b[0m\u001b[0;34m:\u001b[0m\u001b[0;34m\u001b[0m\u001b[0;34m\u001b[0m\u001b[0m\n\u001b[1;32m    213\u001b[0m             \u001b[0mext\u001b[0m \u001b[0;34m=\u001b[0m \u001b[0msplitext\u001b[0m\u001b[0;34m(\u001b[0m\u001b[0mpath\u001b[0m\u001b[0;34m)\u001b[0m\u001b[0;34m[\u001b[0m\u001b[0;36m1\u001b[0m\u001b[0;34m]\u001b[0m\u001b[0;34m\u001b[0m\u001b[0;34m\u001b[0m\u001b[0m\n\u001b[0;32m--> 214\u001b[0;31m             \u001b[0mfobj\u001b[0m \u001b[0;34m=\u001b[0m \u001b[0m_dispatch_dict\u001b[0m\u001b[0;34m[\u001b[0m\u001b[0mext\u001b[0m\u001b[0;34m]\u001b[0m\u001b[0;34m(\u001b[0m\u001b[0mpath\u001b[0m\u001b[0;34m,\u001b[0m \u001b[0mmode\u001b[0m\u001b[0;34m=\u001b[0m\u001b[0mmode\u001b[0m\u001b[0;34m)\u001b[0m\u001b[0;34m\u001b[0m\u001b[0;34m\u001b[0m\u001b[0m\n\u001b[0m\u001b[1;32m    215\u001b[0m             \u001b[0mclose_fobj\u001b[0m \u001b[0;34m=\u001b[0m \u001b[0;32mTrue\u001b[0m\u001b[0;34m\u001b[0m\u001b[0;34m\u001b[0m\u001b[0m\n\u001b[1;32m    216\u001b[0m         \u001b[0;32melif\u001b[0m \u001b[0mhasattr\u001b[0m\u001b[0;34m(\u001b[0m\u001b[0mpath\u001b[0m\u001b[0;34m,\u001b[0m \u001b[0;34m'read'\u001b[0m\u001b[0;34m)\u001b[0m\u001b[0;34m:\u001b[0m\u001b[0;34m\u001b[0m\u001b[0;34m\u001b[0m\u001b[0m\n",
            "\u001b[0;31mFileNotFoundError\u001b[0m: [Errno 2] No such file or directory: 'data/com-dblp.ungraph.txt'"
          ]
        }
      ]
    },
    {
      "cell_type": "markdown",
      "metadata": {
        "id": "zJw4J1IJBKjL",
        "colab_type": "text"
      },
      "source": [
        "● By running this code, we found the communities on DBLP Network\n",
        "● The output shows the community has been assigned to each node. The first column in each row defines nodes and 2nd column its respective community."
      ]
    },
    {
      "cell_type": "markdown",
      "metadata": {
        "id": "zJ_NRH4gBKjV",
        "colab_type": "text"
      },
      "source": [
        "## Leiden Community Detection Algorithm\n",
        "\n",
        "● Leiden algorithm gives communities which are densely connected internally.\n",
        "● We have implemented leiden algorithm using igraph\n",
        "● We have downloaded Anaconda Navigator and installed the Leiden Algorithmlibrary which was done successfully.\n",
        "● This is the Code for Leiden Algorithm"
      ]
    },
    {
      "cell_type": "code",
      "metadata": {
        "id": "Rv7zZ6EMCgPB",
        "colab_type": "code",
        "colab": {
          "base_uri": "https://localhost:8080/",
          "height": 660
        },
        "outputId": "de33691b-ea3d-4861-92ea-78b3c49956a8"
      },
      "source": [
        "!pip install leidenalg\n",
        "!pip install igraph\n",
        "!pip install matplotlib"
      ],
      "execution_count": 3,
      "outputs": [
        {
          "output_type": "stream",
          "text": [
            "Collecting leidenalg\n",
            "\u001b[?25l  Downloading https://files.pythonhosted.org/packages/16/af/5ea557071f5f4834cf4b7538b81eb2ead0e5055610a0be570c509ff76dae/leidenalg-0.8.0-cp36-cp36m-manylinux2010_x86_64.whl (2.4MB)\n",
            "\u001b[K     |████████████████████████████████| 2.4MB 4.4MB/s \n",
            "\u001b[?25hCollecting python-igraph>=0.8.0\n",
            "\u001b[?25l  Downloading https://files.pythonhosted.org/packages/8b/74/24a1afbf3abaf1d5f393b668192888d04091d1a6d106319661cd4af05406/python_igraph-0.8.2-cp36-cp36m-manylinux2010_x86_64.whl (3.2MB)\n",
            "\u001b[K     |████████████████████████████████| 3.2MB 29.3MB/s \n",
            "\u001b[?25hCollecting texttable>=1.6.2\n",
            "  Downloading https://files.pythonhosted.org/packages/ec/b1/8a1c659ce288bf771d5b1c7cae318ada466f73bd0e16df8d86f27a2a3ee7/texttable-1.6.2-py2.py3-none-any.whl\n",
            "Installing collected packages: texttable, python-igraph, leidenalg\n",
            "Successfully installed leidenalg-0.8.0 python-igraph-0.8.2 texttable-1.6.2\n",
            "Collecting igraph\n",
            "\u001b[?25l  Downloading https://files.pythonhosted.org/packages/91/15/7c606c483a401dfdcdd19f2688c83585ee3b5ef401bd4e0e647660ef5b3f/igraph-0.1.11-py2.py3-none-any.whl (119kB)\n",
            "\u001b[K     |████████████████████████████████| 122kB 4.8MB/s \n",
            "\u001b[?25hRequirement already satisfied: ipython in /usr/local/lib/python3.6/dist-packages (from igraph) (5.5.0)\n",
            "Requirement already satisfied: pickleshare in /usr/local/lib/python3.6/dist-packages (from ipython->igraph) (0.7.5)\n",
            "Requirement already satisfied: pygments in /usr/local/lib/python3.6/dist-packages (from ipython->igraph) (2.1.3)\n",
            "Requirement already satisfied: simplegeneric>0.8 in /usr/local/lib/python3.6/dist-packages (from ipython->igraph) (0.8.1)\n",
            "Requirement already satisfied: traitlets>=4.2 in /usr/local/lib/python3.6/dist-packages (from ipython->igraph) (4.3.3)\n",
            "Requirement already satisfied: setuptools>=18.5 in /usr/local/lib/python3.6/dist-packages (from ipython->igraph) (46.1.3)\n",
            "Requirement already satisfied: decorator in /usr/local/lib/python3.6/dist-packages (from ipython->igraph) (4.4.2)\n",
            "Requirement already satisfied: prompt-toolkit<2.0.0,>=1.0.4 in /usr/local/lib/python3.6/dist-packages (from ipython->igraph) (1.0.18)\n",
            "Requirement already satisfied: pexpect; sys_platform != \"win32\" in /usr/local/lib/python3.6/dist-packages (from ipython->igraph) (4.8.0)\n",
            "Requirement already satisfied: six in /usr/local/lib/python3.6/dist-packages (from traitlets>=4.2->ipython->igraph) (1.12.0)\n",
            "Requirement already satisfied: ipython-genutils in /usr/local/lib/python3.6/dist-packages (from traitlets>=4.2->ipython->igraph) (0.2.0)\n",
            "Requirement already satisfied: wcwidth in /usr/local/lib/python3.6/dist-packages (from prompt-toolkit<2.0.0,>=1.0.4->ipython->igraph) (0.1.9)\n",
            "Requirement already satisfied: ptyprocess>=0.5 in /usr/local/lib/python3.6/dist-packages (from pexpect; sys_platform != \"win32\"->ipython->igraph) (0.6.0)\n",
            "Installing collected packages: igraph\n",
            "Successfully installed igraph-0.1.11\n",
            "Requirement already satisfied: matplotlib in /usr/local/lib/python3.6/dist-packages (3.2.1)\n",
            "Requirement already satisfied: kiwisolver>=1.0.1 in /usr/local/lib/python3.6/dist-packages (from matplotlib) (1.2.0)\n",
            "Requirement already satisfied: python-dateutil>=2.1 in /usr/local/lib/python3.6/dist-packages (from matplotlib) (2.8.1)\n",
            "Requirement already satisfied: cycler>=0.10 in /usr/local/lib/python3.6/dist-packages (from matplotlib) (0.10.0)\n",
            "Requirement already satisfied: numpy>=1.11 in /usr/local/lib/python3.6/dist-packages (from matplotlib) (1.18.3)\n",
            "Requirement already satisfied: pyparsing!=2.0.4,!=2.1.2,!=2.1.6,>=2.0.1 in /usr/local/lib/python3.6/dist-packages (from matplotlib) (2.4.7)\n",
            "Requirement already satisfied: six>=1.5 in /usr/local/lib/python3.6/dist-packages (from python-dateutil>=2.1->matplotlib) (1.12.0)\n"
          ],
          "name": "stdout"
        }
      ]
    },
    {
      "cell_type": "code",
      "metadata": {
        "id": "KoNyX55PBKjZ",
        "colab_type": "code",
        "outputId": "26746508-4beb-4428-88fa-5637c644a1c8",
        "colab": {}
      },
      "source": [
        "import leidenalg\n",
        "import igraph as ig\n",
        "import matplotlib.pyplot as plt\n",
        "\n",
        "G = Graph.Read_Edgelist('/content/drive/My Drive/data/com-dblp.ungraph.txt', directed=False)\n",
        "\n",
        "part = leidenalg.find_partition(G, leidenalg.ModularityVertexPartition)\n",
        "\n",
        "print (part)\n",
        "\n",
        "file3 = open(\"/content/drive/My Drive/data/LeidenDblpCommunities.txt\", \"a\")\n",
        "\n",
        "for items in part:\n",
        "    for elements in items:\n",
        "        #print (str(elements))\n",
        "        file3.write(str(elements))\n",
        "        file3.write(\"\\t\")\n",
        "    file3.write(\"\\n\")\n",
        "file3.close()"
      ],
      "execution_count": 0,
      "outputs": [
        {
          "output_type": "error",
          "ename": "ModuleNotFoundError",
          "evalue": "No module named 'leidenalg'",
          "traceback": [
            "\u001b[1;31m---------------------------------------------------------------------------\u001b[0m",
            "\u001b[1;31mModuleNotFoundError\u001b[0m                       Traceback (most recent call last)",
            "\u001b[1;32m<ipython-input-6-a63685e0e91d>\u001b[0m in \u001b[0;36m<module>\u001b[1;34m\u001b[0m\n\u001b[1;32m----> 1\u001b[1;33m \u001b[1;32mimport\u001b[0m \u001b[0mleidenalg\u001b[0m\u001b[1;33m\u001b[0m\u001b[1;33m\u001b[0m\u001b[0m\n\u001b[0m\u001b[0;32m      2\u001b[0m \u001b[1;32mimport\u001b[0m \u001b[0migraph\u001b[0m \u001b[1;32mas\u001b[0m \u001b[0mig\u001b[0m\u001b[1;33m\u001b[0m\u001b[1;33m\u001b[0m\u001b[0m\n\u001b[0;32m      3\u001b[0m \u001b[1;32mimport\u001b[0m \u001b[0mmatplotlib\u001b[0m\u001b[1;33m.\u001b[0m\u001b[0mpyplot\u001b[0m \u001b[1;32mas\u001b[0m \u001b[0mplt\u001b[0m\u001b[1;33m\u001b[0m\u001b[1;33m\u001b[0m\u001b[0m\n\u001b[0;32m      4\u001b[0m \u001b[1;33m\u001b[0m\u001b[0m\n\u001b[0;32m      5\u001b[0m \u001b[0mG\u001b[0m \u001b[1;33m=\u001b[0m \u001b[0mGraph\u001b[0m\u001b[1;33m.\u001b[0m\u001b[0mRead_Edgelist\u001b[0m\u001b[1;33m(\u001b[0m\u001b[1;34m'data/com-dblp.ungraph.txt'\u001b[0m\u001b[1;33m,\u001b[0m \u001b[0mdirected\u001b[0m\u001b[1;33m=\u001b[0m\u001b[1;32mFalse\u001b[0m\u001b[1;33m)\u001b[0m\u001b[1;33m\u001b[0m\u001b[1;33m\u001b[0m\u001b[0m\n",
            "\u001b[1;31mModuleNotFoundError\u001b[0m: No module named 'leidenalg'"
          ]
        }
      ]
    },
    {
      "cell_type": "markdown",
      "metadata": {
        "id": "kYACgqe-BKj2",
        "colab_type": "text"
      },
      "source": [
        "● By running this code, we found the communities on DBLP Network\n",
        "● The image attached below shows the text file form by above code each row represent community and numbers of nodes in that community.\n",
        "● There are many communities that contain only 1 node."
      ]
    }
  ]
}