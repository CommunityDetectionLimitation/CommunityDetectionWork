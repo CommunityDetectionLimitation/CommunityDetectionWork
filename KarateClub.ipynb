{
  "nbformat": 4,
  "nbformat_minor": 0,
  "metadata": {
    "colab": {
      "name": "KarateClub.ipynb",
      "provenance": [],
      "collapsed_sections": []
    },
    "kernelspec": {
      "name": "python3",
      "display_name": "Python 3"
    },
    "accelerator": "GPU"
  },
  "cells": [
    {
      "cell_type": "markdown",
      "metadata": {
        "id": "bUioNscITAFy",
        "colab_type": "text"
      },
      "source": [
        "**Converting EdgeList for Karate Club Dataset**"
      ]
    },
    {
      "cell_type": "code",
      "metadata": {
        "id": "ZN8zRWXuMdyt",
        "colab_type": "code",
        "colab": {
          "base_uri": "https://localhost:8080/",
          "height": 1000
        },
        "outputId": "7e3d3b3f-cf8f-4e53-aa2b-16ac500dce43"
      },
      "source": [
        "import matplotlib.pyplot as plt\n",
        "import networkx as nx\n",
        "\n",
        "G = nx.karate_club_graph()\n",
        "\n",
        "for line in nx.generate_edgelist(G, data=False):\n",
        "    print(line)\n",
        "    \n",
        "\n"
      ],
      "execution_count": null,
      "outputs": [
        {
          "output_type": "stream",
          "text": [
            "0 1\n",
            "0 2\n",
            "0 3\n",
            "0 4\n",
            "0 5\n",
            "0 6\n",
            "0 7\n",
            "0 8\n",
            "0 10\n",
            "0 11\n",
            "0 12\n",
            "0 13\n",
            "0 17\n",
            "0 19\n",
            "0 21\n",
            "0 31\n",
            "1 2\n",
            "1 3\n",
            "1 7\n",
            "1 13\n",
            "1 17\n",
            "1 19\n",
            "1 21\n",
            "1 30\n",
            "2 3\n",
            "2 7\n",
            "2 8\n",
            "2 9\n",
            "2 13\n",
            "2 27\n",
            "2 28\n",
            "2 32\n",
            "3 7\n",
            "3 12\n",
            "3 13\n",
            "4 6\n",
            "4 10\n",
            "5 6\n",
            "5 10\n",
            "5 16\n",
            "6 16\n",
            "8 30\n",
            "8 32\n",
            "8 33\n",
            "9 33\n",
            "13 33\n",
            "14 32\n",
            "14 33\n",
            "15 32\n",
            "15 33\n",
            "18 32\n",
            "18 33\n",
            "19 33\n",
            "20 32\n",
            "20 33\n",
            "22 32\n",
            "22 33\n",
            "23 25\n",
            "23 27\n",
            "23 29\n",
            "23 32\n",
            "23 33\n",
            "24 25\n",
            "24 27\n",
            "24 31\n",
            "25 31\n",
            "26 29\n",
            "26 33\n",
            "27 33\n",
            "28 31\n",
            "28 33\n",
            "29 32\n",
            "29 33\n",
            "30 32\n",
            "30 33\n",
            "31 32\n",
            "31 33\n",
            "32 33\n"
          ],
          "name": "stdout"
        }
      ]
    },
    {
      "cell_type": "markdown",
      "metadata": {
        "id": "4B_o_14HTRtb",
        "colab_type": "text"
      },
      "source": [
        "**Applying Louvain Algorithm on Karate Club**"
      ]
    },
    {
      "cell_type": "code",
      "metadata": {
        "id": "jnrPlo4BUW3n",
        "colab_type": "code",
        "colab": {
          "base_uri": "https://localhost:8080/",
          "height": 129
        },
        "outputId": "5c847328-6530-43d5-9285-c46c9ec0098c"
      },
      "source": [
        "from google.colab import drive\n",
        "drive.mount('/content/drive')\n"
      ],
      "execution_count": null,
      "outputs": [
        {
          "output_type": "stream",
          "text": [
            "Go to this URL in a browser: https://accounts.google.com/o/oauth2/auth?client_id=947318989803-6bn6qk8qdgf4n4g3pfee6491hc0brc4i.apps.googleusercontent.com&redirect_uri=urn%3aietf%3awg%3aoauth%3a2.0%3aoob&response_type=code&scope=email%20https%3a%2f%2fwww.googleapis.com%2fauth%2fdocs.test%20https%3a%2f%2fwww.googleapis.com%2fauth%2fdrive%20https%3a%2f%2fwww.googleapis.com%2fauth%2fdrive.photos.readonly%20https%3a%2f%2fwww.googleapis.com%2fauth%2fpeopleapi.readonly\n",
            "\n",
            "Enter your authorization code:\n",
            "··········\n",
            "Mounted at /content/drive\n"
          ],
          "name": "stdout"
        }
      ]
    },
    {
      "cell_type": "code",
      "metadata": {
        "id": "AQIyFMQ1VBsb",
        "colab_type": "code",
        "colab": {
          "base_uri": "https://localhost:8080/",
          "height": 274
        },
        "outputId": "04e7e3e0-b078-4136-e948-cd2527223944"
      },
      "source": [
        "!pip install networkx\n",
        "!pip install community"
      ],
      "execution_count": null,
      "outputs": [
        {
          "output_type": "stream",
          "text": [
            "Requirement already satisfied: networkx in /usr/local/lib/python3.6/dist-packages (2.4)\n",
            "Requirement already satisfied: decorator>=4.3.0 in /usr/local/lib/python3.6/dist-packages (from networkx) (4.4.2)\n",
            "Requirement already satisfied: community in /usr/local/lib/python3.6/dist-packages (1.0.0b1)\n",
            "Requirement already satisfied: Flask in /usr/local/lib/python3.6/dist-packages (from community) (1.1.2)\n",
            "Requirement already satisfied: requests in /usr/local/lib/python3.6/dist-packages (from community) (2.23.0)\n",
            "Requirement already satisfied: click>=5.1 in /usr/local/lib/python3.6/dist-packages (from Flask->community) (7.1.2)\n",
            "Requirement already satisfied: Jinja2>=2.10.1 in /usr/local/lib/python3.6/dist-packages (from Flask->community) (2.11.2)\n",
            "Requirement already satisfied: itsdangerous>=0.24 in /usr/local/lib/python3.6/dist-packages (from Flask->community) (1.1.0)\n",
            "Requirement already satisfied: Werkzeug>=0.15 in /usr/local/lib/python3.6/dist-packages (from Flask->community) (1.0.1)\n",
            "Requirement already satisfied: idna<3,>=2.5 in /usr/local/lib/python3.6/dist-packages (from requests->community) (2.10)\n",
            "Requirement already satisfied: certifi>=2017.4.17 in /usr/local/lib/python3.6/dist-packages (from requests->community) (2020.6.20)\n",
            "Requirement already satisfied: chardet<4,>=3.0.2 in /usr/local/lib/python3.6/dist-packages (from requests->community) (3.0.4)\n",
            "Requirement already satisfied: urllib3!=1.25.0,!=1.25.1,<1.26,>=1.21.1 in /usr/local/lib/python3.6/dist-packages (from requests->community) (1.24.3)\n",
            "Requirement already satisfied: MarkupSafe>=0.23 in /usr/local/lib/python3.6/dist-packages (from Jinja2>=2.10.1->Flask->community) (1.1.1)\n"
          ],
          "name": "stdout"
        }
      ]
    },
    {
      "cell_type": "code",
      "metadata": {
        "id": "c4DEQ80sTPhA",
        "colab_type": "code",
        "colab": {}
      },
      "source": [
        "import networkx as nx\n",
        "from community import community_louvain\n",
        "\n",
        "G = nx.read_edgelist('/content/drive/My Drive/Karate Club/KarateClubDataset.txt', create_using = nx.Graph(), nodetype = int)\n",
        "\n",
        "parts = community_louvain.best_partition(G, resolution = 2, randomize = 0)\n",
        "values = [parts.get(node) for node in G.nodes()]\n",
        "\n",
        "a = []\n",
        "b = []\n",
        "\n",
        "i=0\n",
        "for item in parts:\n",
        "    a.append(item)\n",
        "\t#a[i] = item\n",
        "    i = i + 1\n",
        "\t\n",
        "i=0\n",
        "for item2 in values:\n",
        "    b.append(item2)\n",
        "\t#b[i] = item2\n",
        "    i = i + 1\n",
        "\n",
        "with open('/content/drive/My Drive/Karate Club/LouvainKarateCommunity.txt', 'a') as f:\n",
        "#f= open(\"a.txt\",\"w+\")\n",
        "\tfor i in range(len(a)):\n",
        "\t\tf.write(str(a[i]) + '\\t ' + str(b[i]) + '\\n')\n",
        "  \n"
      ],
      "execution_count": null,
      "outputs": []
    },
    {
      "cell_type": "code",
      "metadata": {
        "id": "ATkx3cHfdeOb",
        "colab_type": "code",
        "colab": {
          "base_uri": "https://localhost:8080/",
          "height": 248
        },
        "outputId": "2ee4fd85-c903-4b67-8bf7-ca7660e09252"
      },
      "source": [
        "import networkx as nx\n",
        "from community import community_louvain\n",
        "\n",
        "G = nx.read_edgelist('/content/drive/My Drive/Karate Club/KarateClubDataset.txt', create_using = nx.Graph(), nodetype = int)\n",
        "\n",
        "parts = community_louvain.best_partition(G, resolution = 2, randomize = 0)\n",
        "values = [parts.get(node) for node in G.nodes()]\n",
        "\n",
        "pos = nx.spring_layout(G)\n",
        "\n",
        "cmap = cm.get_cmap('viridis', max(parts.values()) + 1)\n",
        "nx.draw_networkx_nodes(G, pos, partition.keys(), node_size=40,\n",
        "                       cmap=cmap, node_color=list(partition.values()))\n",
        "nx.draw_networkx_edges(G, pos, alpha=0.5)\n",
        "plt.show()"
      ],
      "execution_count": null,
      "outputs": [
        {
          "output_type": "display_data",
          "data": {
            "image/png": "[encoded data removed]",
            "text/plain": [
              "<Figure size 432x288 with 1 Axes>"
            ]
          },
          "metadata": {
            "tags": []
          }
        }
      ]
    },
    {
      "cell_type": "markdown",
      "metadata": {
        "id": "EpOQP5EMXT33",
        "colab_type": "text"
      },
      "source": [
        "**Installing Libraries**"
      ]
    },
    {
      "cell_type": "code",
      "metadata": {
        "id": "f4fsJ4pdXX96",
        "colab_type": "code",
        "colab": {
          "base_uri": "https://localhost:8080/",
          "height": 568
        },
        "outputId": "0196a11d-659e-496a-ac44-7e9309985c0b"
      },
      "source": [
        "!pip install sklearn\n",
        "!pip install numpy\n",
        "!pip install matplotlib\n",
        "!pip install numpy\n",
        "!pip install seaborn\n",
        "!pip install pandas"
      ],
      "execution_count": null,
      "outputs": [
        {
          "output_type": "stream",
          "text": [
            "Requirement already satisfied: sklearn in /usr/local/lib/python3.6/dist-packages (0.0)\n",
            "Requirement already satisfied: scikit-learn in /usr/local/lib/python3.6/dist-packages (from sklearn) (0.22.2.post1)\n",
            "Requirement already satisfied: joblib>=0.11 in /usr/local/lib/python3.6/dist-packages (from scikit-learn->sklearn) (0.16.0)\n",
            "Requirement already satisfied: scipy>=0.17.0 in /usr/local/lib/python3.6/dist-packages (from scikit-learn->sklearn) (1.4.1)\n",
            "Requirement already satisfied: numpy>=1.11.0 in /usr/local/lib/python3.6/dist-packages (from scikit-learn->sklearn) (1.18.5)\n",
            "Requirement already satisfied: numpy in /usr/local/lib/python3.6/dist-packages (1.18.5)\n",
            "Requirement already satisfied: matplotlib in /usr/local/lib/python3.6/dist-packages (3.2.2)\n",
            "Requirement already satisfied: cycler>=0.10 in /usr/local/lib/python3.6/dist-packages (from matplotlib) (0.10.0)\n",
            "Requirement already satisfied: numpy>=1.11 in /usr/local/lib/python3.6/dist-packages (from matplotlib) (1.18.5)\n",
            "Requirement already satisfied: kiwisolver>=1.0.1 in /usr/local/lib/python3.6/dist-packages (from matplotlib) (1.2.0)\n",
            "Requirement already satisfied: python-dateutil>=2.1 in /usr/local/lib/python3.6/dist-packages (from matplotlib) (2.8.1)\n",
            "Requirement already satisfied: pyparsing!=2.0.4,!=2.1.2,!=2.1.6,>=2.0.1 in /usr/local/lib/python3.6/dist-packages (from matplotlib) (2.4.7)\n",
            "Requirement already satisfied: six in /usr/local/lib/python3.6/dist-packages (from cycler>=0.10->matplotlib) (1.12.0)\n",
            "Requirement already satisfied: numpy in /usr/local/lib/python3.6/dist-packages (1.18.5)\n",
            "Requirement already satisfied: seaborn in /usr/local/lib/python3.6/dist-packages (0.10.1)\n",
            "Requirement already satisfied: scipy>=1.0.1 in /usr/local/lib/python3.6/dist-packages (from seaborn) (1.4.1)\n",
            "Requirement already satisfied: pandas>=0.22.0 in /usr/local/lib/python3.6/dist-packages (from seaborn) (1.0.5)\n",
            "Requirement already satisfied: numpy>=1.13.3 in /usr/local/lib/python3.6/dist-packages (from seaborn) (1.18.5)\n",
            "Requirement already satisfied: matplotlib>=2.1.2 in /usr/local/lib/python3.6/dist-packages (from seaborn) (3.2.2)\n",
            "Requirement already satisfied: python-dateutil>=2.6.1 in /usr/local/lib/python3.6/dist-packages (from pandas>=0.22.0->seaborn) (2.8.1)\n",
            "Requirement already satisfied: pytz>=2017.2 in /usr/local/lib/python3.6/dist-packages (from pandas>=0.22.0->seaborn) (2018.9)\n",
            "Requirement already satisfied: kiwisolver>=1.0.1 in /usr/local/lib/python3.6/dist-packages (from matplotlib>=2.1.2->seaborn) (1.2.0)\n",
            "Requirement already satisfied: pyparsing!=2.0.4,!=2.1.2,!=2.1.6,>=2.0.1 in /usr/local/lib/python3.6/dist-packages (from matplotlib>=2.1.2->seaborn) (2.4.7)\n",
            "Requirement already satisfied: cycler>=0.10 in /usr/local/lib/python3.6/dist-packages (from matplotlib>=2.1.2->seaborn) (0.10.0)\n",
            "Requirement already satisfied: six>=1.5 in /usr/local/lib/python3.6/dist-packages (from python-dateutil>=2.6.1->pandas>=0.22.0->seaborn) (1.12.0)\n",
            "Requirement already satisfied: pandas in /usr/local/lib/python3.6/dist-packages (1.0.5)\n",
            "Requirement already satisfied: python-dateutil>=2.6.1 in /usr/local/lib/python3.6/dist-packages (from pandas) (2.8.1)\n",
            "Requirement already satisfied: numpy>=1.13.3 in /usr/local/lib/python3.6/dist-packages (from pandas) (1.18.5)\n",
            "Requirement already satisfied: pytz>=2017.2 in /usr/local/lib/python3.6/dist-packages (from pandas) (2018.9)\n",
            "Requirement already satisfied: six>=1.5 in /usr/local/lib/python3.6/dist-packages (from python-dateutil>=2.6.1->pandas) (1.12.0)\n"
          ],
          "name": "stdout"
        }
      ]
    },
    {
      "cell_type": "markdown",
      "metadata": {
        "id": "6ChdysMDWbQI",
        "colab_type": "text"
      },
      "source": [
        "**F1 Score**"
      ]
    },
    {
      "cell_type": "code",
      "metadata": {
        "id": "px7eywYwWasi",
        "colab_type": "code",
        "colab": {
          "base_uri": "https://localhost:8080/",
          "height": 72
        },
        "outputId": "c2f6e005-c99c-4ea5-91b4-6aa25abe7022"
      },
      "source": [
        "from sklearn.metrics import f1_score\n",
        "\n",
        "file1 = open(\"/content/drive/My Drive/Karate Club/LouvainKarateCommunity.txt\", \"r\")\n",
        "file2 = open(\"/content/drive/My Drive/Karate Club/KarateClubGroundTruth.txt\", \"r\")\n",
        "\n",
        "#y_true = [0, 1, 2, 0, 1, 2]\n",
        "#y_pred = [0, 2, 1, 0, 0, 1]\n",
        "\n",
        "array1 = []\n",
        "array2 = []\n",
        "\n",
        "for item1 in file1:\n",
        "\titem1 = item1.strip()\n",
        "\titem1 = item1.split(\" \")\n",
        "\tcommunity1 = item1[1].strip()\n",
        "\tarray1.append(community1)\n",
        "\t\n",
        "for item2 in file2:\n",
        "\titem2 = item2.strip()\n",
        "\titem2 = item2.split(\" \")\n",
        "\tcommunity2 = item2[1].strip()\n",
        "\tarray2.append(community2)\n",
        "\n",
        "\n",
        "x = f1_score(array1, array2, average='macro')\n",
        "print (\"The f1 score with macro average is :\" + str(x))\n",
        "x = f1_score(array1, array2, average='micro')\n",
        "print (\"The f1 score with micro average is :\" + str(x))\n",
        "x = f1_score(array1, array2, average='weighted')\n",
        "print (\"The f1 score with weighted average is :\" + str(x))"
      ],
      "execution_count": null,
      "outputs": [
        {
          "output_type": "stream",
          "text": [
            "The f1 score with macro average is :0.735064935064935\n",
            "The f1 score with micro average is :0.735294117647059\n",
            "The f1 score with micro average is :0.7350649350649349\n"
          ],
          "name": "stdout"
        }
      ]
    },
    {
      "cell_type": "markdown",
      "metadata": {
        "id": "gmRL1MPwW73q",
        "colab_type": "text"
      },
      "source": [
        "**Rand Index Calculation**"
      ]
    },
    {
      "cell_type": "code",
      "metadata": {
        "id": "QREVivLaXCgy",
        "colab_type": "code",
        "colab": {
          "base_uri": "https://localhost:8080/",
          "height": 54
        },
        "outputId": "46652b18-f789-4a69-f9e3-97a8c67cba8a"
      },
      "source": [
        "from sklearn.metrics.cluster import adjusted_rand_score\n",
        "file1 = open(\"/content/drive/My Drive/Karate Club/LouvainKarateCommunity.txt\", \"r\")\n",
        "file2 = open(\"/content/drive/My Drive/Karate Club/KarateClubGroundTruth.txt\", \"r\")\n",
        "\n",
        "\n",
        "array1 = []\n",
        "array2 = []\n",
        "\n",
        "for item1 in file1:\n",
        "\titem1 = item1.strip()\n",
        "\titem1 = item1.split(\" \")\n",
        "\tcommunity1 = item1[1].strip()\n",
        "\tarray1.append(community1)\n",
        "\t\n",
        "for item2 in file2:\n",
        "\titem2 = item2.strip()\n",
        "\titem2 = item2.split(\" \")\n",
        "\tcommunity2 = item2[1].strip()\n",
        "\tarray2.append(community2)\n",
        "\n",
        "\t\n",
        "x = adjusted_rand_score(array1, array2)\n",
        "print (\"%f \\n\" % x)\n"
      ],
      "execution_count": null,
      "outputs": [
        {
          "output_type": "stream",
          "text": [
            "0.197211 \n",
            "\n"
          ],
          "name": "stdout"
        }
      ]
    },
    {
      "cell_type": "markdown",
      "metadata": {
        "id": "xWc63nJ4XGP0",
        "colab_type": "text"
      },
      "source": [
        "**Confusion Matrix**"
      ]
    },
    {
      "cell_type": "code",
      "metadata": {
        "id": "kuITxmmsXKZW",
        "colab_type": "code",
        "colab": {
          "base_uri": "https://localhost:8080/",
          "height": 276
        },
        "outputId": "1eea84b7-127e-49f8-fc43-42457c3040c5"
      },
      "source": [
        "from sklearn import metrics\n",
        "import numpy as np\n",
        "import matplotlib.pyplot as plt\n",
        "import seaborn as sn\n",
        "import pandas as pd\n",
        "\n",
        "file1 = open(\"/content/drive/My Drive/Karate Club/LouvainKarateCommunity.txt\", \"r\")\n",
        "file2 = open(\"/content/drive/My Drive/Karate Club/KarateClubGroundTruth.txt\", \"r\")\n",
        "\n",
        "array1 = []\n",
        "array2 = []\n",
        "\n",
        "for item1 in file1:\n",
        "\titem1 = item1.strip()\n",
        "\titem1 = item1.split(\" \")\n",
        "\tcommunity1 = item1[1].strip()\n",
        "\tarray1.append(community1)\n",
        "\t\n",
        "for item2 in file2:\n",
        "\titem2 = item2.strip()\n",
        "\titem2 = item2.split(\" \")\n",
        "\tcommunity2 = item2[1].strip()\n",
        "\tarray2.append(community2)\n",
        "\n",
        "print(metrics.confusion_matrix(array1, array2))\n",
        "\n",
        "print(metrics.classification_report(array1, array2))\n"
      ],
      "execution_count": null,
      "outputs": [
        {
          "output_type": "stream",
          "text": [
            "[[12  5]\n",
            " [ 4 13]]\n",
            "              precision    recall  f1-score   support\n",
            "\n",
            "           0       0.75      0.71      0.73        17\n",
            "           1       0.72      0.76      0.74        17\n",
            "\n",
            "    accuracy                           0.74        34\n",
            "   macro avg       0.74      0.74      0.74        34\n",
            "weighted avg       0.74      0.74      0.74        34\n",
            "\n"
          ],
          "name": "stdout"
        },
        {
          "output_type": "stream",
          "text": [
            "/usr/local/lib/python3.6/dist-packages/statsmodels/tools/_testing.py:19: FutureWarning: pandas.util.testing is deprecated. Use the functions in the public API at pandas.testing instead.\n",
            "  import pandas.util.testing as tm\n"
          ],
          "name": "stderr"
        }
      ]
    },
    {
      "cell_type": "code",
      "metadata": {
        "id": "2bBQpBJSc7UP",
        "colab_type": "code",
        "colab": {
          "base_uri": "https://localhost:8080/",
          "height": 248
        },
        "outputId": "4aac607f-9b5b-4ffc-ba18-26af44e24ab0"
      },
      "source": [
        "import networkx as nx\n",
        "from community import community_louvain\n",
        "\n",
        "G = nx.read_edgelist('/content/drive/My Drive/Karate Club/LouvainKarateCommunity.txt', create_using = nx.Graph(), nodetype = int)\n",
        "\n",
        "parts = community_louvain.best_partition(G, resolution = 2, randomize = 0)\n",
        "values = [parts.get(node) for node in G.nodes()]\n",
        "\n",
        "pos = nx.spring_layout(G)\n",
        "\n",
        "cmap = cm.get_cmap('viridis', max(parts.values()) + 1)\n",
        "nx.draw_networkx_nodes(G, pos, partition.keys(), node_size=40,\n",
        "                       cmap=cmap, node_color=list(partition.values()))\n",
        "nx.draw_networkx_edges(G, pos, alpha=0.5)\n",
        "plt.show()"
      ],
      "execution_count": null,
      "outputs": [
        {
          "output_type": "display_data",
          "data": {
            "image/png": "[encoded data removed]",
            "text/plain": [
              "<Figure size 432x288 with 1 Axes>"
            ]
          },
          "metadata": {
            "tags": []
          }
        }
      ]
    }
  ]
}