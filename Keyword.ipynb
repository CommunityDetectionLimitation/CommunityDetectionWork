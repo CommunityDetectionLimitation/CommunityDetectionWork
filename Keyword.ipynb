{
  "nbformat": 4,
  "nbformat_minor": 0,
  "metadata": {
    "colab": {
      "name": "Keyword.ipynb",
      "provenance": [],
      "collapsed_sections": []
    },
    "kernelspec": {
      "name": "python3",
      "display_name": "Python 3"
    }
  },
  "cells": [
    {
      "cell_type": "code",
      "metadata": {
        "id": "jv6xylc7Gpbj",
        "colab_type": "code",
        "colab": {}
      },
      "source": [
        "import pandas as pd\n",
        "import csv\n",
        "from sklearn.feature_extraction.text import TfidfVectorizer\n",
        "import nltk\n",
        "from nltk.corpus import stopwords"
      ],
      "execution_count": 0,
      "outputs": []
    },
    {
      "cell_type": "code",
      "metadata": {
        "id": "yaBxCwBeGr0h",
        "colab_type": "code",
        "colab": {}
      },
      "source": [
        "abstracts = []\n",
        "paperName = []"
      ],
      "execution_count": 0,
      "outputs": []
    },
    {
      "cell_type": "code",
      "metadata": {
        "id": "hKt8cTUcGuB4",
        "colab_type": "code",
        "colab": {}
      },
      "source": [
        "from google.colab import drive\n",
        "drive.mount('/content/drive')\n",
        "\n",
        "with open('/content/drive/My Drive/data/abstractsOnly.txt', mode='r') as csv_file:\n",
        "    csv_reader = csv.DictReader(csv_file)\n",
        "    for row in csv_reader:\n",
        "        abstracts.append(row[\"Abstract\"])\n",
        "        paperName.append(row[\"Paper\"])\n"
      ],
      "execution_count": 0,
      "outputs": []
    },
    {
      "cell_type": "code",
      "metadata": {
        "id": "vQ4z-IHbGxvU",
        "colab_type": "code",
        "colab": {}
      },
      "source": [
        "print (\"A\")\n",
        "bagOfWords = []\n",
        "\n",
        "for item in range(len(abstracts)):\n",
        "    abstracts[item] = abstracts[item].strip()\n",
        "    bagOfWords.append(abstracts[item].split(' '))\n",
        "\n",
        "uniqueWords = []\n",
        "\n",
        "for i in range(len(bagOfWords)):\n",
        "    uniqueWords = uniqueWords + bagOfWords[i]\n",
        "print (\"B\")"
      ],
      "execution_count": 0,
      "outputs": []
    },
    {
      "cell_type": "code",
      "metadata": {
        "id": "4wFb2r8mG4gs",
        "colab_type": "code",
        "colab": {}
      },
      "source": [
        "uniqueWords = list(dict.fromkeys(uniqueWords))\n",
        "\n",
        "final = []\n",
        "#total words count in all document\n",
        "totalCount = dict.fromkeys(uniqueWords, 0)\n",
        "for j in range(len(bagOfWords)):\n",
        "    for word in bagOfWords[j]:\n",
        "        totalCount[word] = totalCount[word] + 1\n",
        "print (\"C\")\n",
        "#removing words with less than 1 count\n",
        "for key in totalCount:\n",
        "    if(totalCount[key] <= 1):\n",
        "        uniqueWords.remove(key)\n",
        "        for j in range(len(bagOfWords)):\n",
        "            for a in bagOfWords[j]:\n",
        "                if key in bagOfWords[j]:\n",
        "                    bagOfWords[j].remove(key)\n",
        "print (\"D\")               \n",
        "#removing stop words\n",
        "stop_words = set(stopwords.words('english'))\n",
        "for words in stop_words:\n",
        "    if words in uniqueWords:\n",
        "        uniqueWords.remove(words)\n",
        "    for j in range(len(bagOfWords)):\n",
        "        for a in bagOfWords[j]:\n",
        "            if words in bagOfWords[j]:\n",
        "                #print (words)\n",
        "                bagOfWords[j].remove(words)\n",
        "\n",
        "print (\"E\")\n",
        "#document keyword sepearte count\n",
        "for j in range(len(bagOfWords)):\n",
        "    numOfWords = dict.fromkeys(uniqueWords, 0)\n",
        "    for word in bagOfWords[j]:\n",
        "        numOfWords[word] += 1\n",
        "    final.append(numOfWords)\n",
        "print (\"F\")\n",
        "df = pd.DataFrame(index = paperName, data = final)\n",
        "\n",
        "df.to_csv(\"/content/drive/My Drive/data/abc.csv\", index=True)\n",
        "\n",
        "print (df)\n",
        "\n"
      ],
      "execution_count": 0,
      "outputs": []
    }
  ]
}